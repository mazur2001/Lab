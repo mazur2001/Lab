{
  "cells": [
    {
      "cell_type": "code",
      "execution_count": 1,
      "id": "c5d02011",
      "metadata": {
        "scrolled": false,
        "colab": {
          "base_uri": "https://localhost:8080/"
        },
        "id": "c5d02011",
        "outputId": "21812308-e714-4341-cf6e-3b2d79b425b1"
      },
      "outputs": [
        {
          "output_type": "stream",
          "name": "stdout",
          "text": [
            "root\n"
          ]
        }
      ],
      "source": [
        "import subprocess\n",
        "\n",
        "result = subprocess.run(['whoami'], stdout=subprocess.PIPE)\n",
        "username = result.stdout.decode().strip()\n",
        "\n",
        "print(username)"
      ]
    },
    {
      "cell_type": "code",
      "execution_count": 2,
      "id": "f8fb9a7c",
      "metadata": {
        "scrolled": true,
        "colab": {
          "base_uri": "https://localhost:8080/"
        },
        "id": "f8fb9a7c",
        "outputId": "eac2a70d-c9d6-4881-cb51-96b7e1f386fb"
      },
      "outputs": [
        {
          "output_type": "stream",
          "name": "stdout",
          "text": [
            "створено файл\n"
          ]
        }
      ],
      "source": [
        "import os\n",
        "login = \"ваш_логін\"\n",
        "filename = f\"{login}.txt\"\n",
        "\n",
        "with open(filename, \"w\") as f:\n",
        "    pass\n",
        "print(\"створено файл\")"
      ]
    },
    {
      "cell_type": "code",
      "execution_count": 3,
      "id": "019482fa",
      "metadata": {
        "colab": {
          "base_uri": "https://localhost:8080/"
        },
        "id": "019482fa",
        "outputId": "f69c2a3f-220b-49a6-87c2-5be3bc046726"
      },
      "outputs": [
        {
          "output_type": "stream",
          "name": "stdout",
          "text": [
            "Мазур - є студентом 4-1 групи ФІТ\n"
          ]
        }
      ],
      "source": [
        "surname = \"Мазур\"\n",
        "group_number = \"4-1\"\n",
        "\n",
        "with open(filename, \"w\") as f:\n",
        "    f.write(f\"{surname} - є студентом {group_number} групи ФІТ\")\n",
        "\n",
        "with open(filename, \"r\") as f:\n",
        "    contents = f.read()\n",
        "    print(contents)"
      ]
    },
    {
      "cell_type": "code",
      "execution_count": 4,
      "id": "6dc037e1",
      "metadata": {
        "colab": {
          "base_uri": "https://localhost:8080/"
        },
        "id": "6dc037e1",
        "outputId": "af6a1dcf-4aaf-4e18-a6f6-496c9371b0e2"
      },
      "outputs": [
        {
          "output_type": "stream",
          "name": "stdout",
          "text": [
            "Вміст робочої папки '/content':\n",
            ".config\n",
            "ваш_логін.txt\n",
            "sample_data\n"
          ]
        }
      ],
      "source": [
        "dir_path = os.getcwd()\n",
        "dir_zmist = os.listdir(dir_path)\n",
        "\n",
        "print(f\"Вміст робочої папки '{dir_path}':\")\n",
        "for item in dir_zmist:\n",
        "    print(item)"
      ]
    },
    {
      "cell_type": "code",
      "execution_count": 5,
      "id": "b27edd15",
      "metadata": {
        "colab": {
          "base_uri": "https://localhost:8080/"
        },
        "id": "b27edd15",
        "outputId": "eb915ec4-d8e5-486d-bcb2-fad183ff8746"
      },
      "outputs": [
        {
          "output_type": "stream",
          "name": "stdout",
          "text": [
            "   1:\n",
            "import subprocess\n",
            "\n",
            "result = subprocess.run(['whoami'], stdout=subprocess.PIPE)\n",
            "username = result.stdout.decode().strip()\n",
            "\n",
            "print(username)\n",
            "   2:\n",
            "import os\n",
            "login = \"ваш_логін\"\n",
            "filename = f\"{login}.txt\"\n",
            "\n",
            "with open(filename, \"w\") as f:\n",
            "    pass\n",
            "print(\"створено файл\")\n",
            "   3:\n",
            "surname = \"Мазур\"\n",
            "group_number = \"4-1\"\n",
            "\n",
            "with open(filename, \"w\") as f:\n",
            "    f.write(f\"{surname} - є студентом {group_number} групи ФІТ\")\n",
            "\n",
            "with open(filename, \"r\") as f:\n",
            "    contents = f.read()\n",
            "    print(contents)\n",
            "   4:\n",
            "dir_path = os.getcwd()\n",
            "dir_zmist = os.listdir(dir_path)\n",
            "\n",
            "print(f\"Вміст робочої папки '{dir_path}':\")\n",
            "for item in dir_zmist:\n",
            "    print(item)\n",
            "   5: %history -n 1-5\n"
          ]
        }
      ],
      "source": [
        "%history -n 1-5"
      ]
    },
    {
      "cell_type": "code",
      "execution_count": null,
      "id": "066c21e0",
      "metadata": {
        "id": "066c21e0",
        "outputId": "a6a2b2b8-5e1d-42f8-98ac-6fa780442512"
      },
      "outputs": [
        {
          "name": "stdout",
          "output_type": "stream",
          "text": [
            "29.9 µs ± 243 ns per loop (mean ± std. dev. of 7 runs, 10000 loops each)\n"
          ]
        }
      ],
      "source": [
        "%timeit u = 10000**1000"
      ]
    },
    {
      "cell_type": "code",
      "execution_count": null,
      "id": "8c5d41d0",
      "metadata": {
        "id": "8c5d41d0"
      },
      "outputs": [],
      "source": [
        "#!pip install jupyter_contrib_nbextensions ; jupyter contrib nbextension install --user ;  jupyter nbextension enable collapsible_headings/main"
      ]
    },
    {
      "cell_type": "code",
      "execution_count": null,
      "id": "3916790f",
      "metadata": {
        "id": "3916790f"
      },
      "outputs": [],
      "source": []
    }
  ],
  "metadata": {
    "kernelspec": {
      "display_name": "Python 3 (ipykernel)",
      "language": "python",
      "name": "python3"
    },
    "language_info": {
      "codemirror_mode": {
        "name": "ipython",
        "version": 3
      },
      "file_extension": ".py",
      "mimetype": "text/x-python",
      "name": "python",
      "nbconvert_exporter": "python",
      "pygments_lexer": "ipython3",
      "version": "3.9.13"
    },
    "varInspector": {
      "cols": {
        "lenName": 16,
        "lenType": 16,
        "lenVar": 40
      },
      "kernels_config": {
        "python": {
          "delete_cmd_postfix": "",
          "delete_cmd_prefix": "del ",
          "library": "var_list.py",
          "varRefreshCmd": "print(var_dic_list())"
        },
        "r": {
          "delete_cmd_postfix": ") ",
          "delete_cmd_prefix": "rm(",
          "library": "var_list.r",
          "varRefreshCmd": "cat(var_dic_list()) "
        }
      },
      "types_to_exclude": [
        "module",
        "function",
        "builtin_function_or_method",
        "instance",
        "_Feature"
      ],
      "window_display": false
    },
    "colab": {
      "provenance": []
    }
  },
  "nbformat": 4,
  "nbformat_minor": 5
}