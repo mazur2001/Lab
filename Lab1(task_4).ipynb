{
 "cells": [
  {
   "cell_type": "markdown",
   "id": "f82a5368",
   "metadata": {},
   "source": [
    "# Завдання"
   ]
  },
  {
   "cell_type": "markdown",
   "id": "fc280567",
   "metadata": {},
   "source": [
    "1. Використовуючи данні нижченаведеної таблиці, проаналізувати динаміку курсу долару США за 11 періодів та спрогнозувати курс долару на 12-й період на основі _логарифмічної_ _регресії_."
   ]
  },
  {
   "cell_type": "markdown",
   "id": "16cc283e",
   "metadata": {},
   "source": [
    "| Період х | 1 | 2 | 3 | 4 | 5 | 6 | 7 | 8 | 9 | 10 | 11 |\n",
    "|--------|---|---|---|---|---|---|---|---|---|----|----|\n",
    "| Курс у | 3,89 | 4,48 | 5,0 | 5,50 | 5,81 | 5,71 | 5,93 | 5,84 | 6,15 | 5,97 | 6,22 |"
   ]
  },
  {
   "cell_type": "markdown",
   "id": "4adfc72d",
   "metadata": {},
   "source": [
    "$$\\min \\sum{i=1}^{11}  (y{i}-a \\ln (x_{i})-b^2) $$"
   ]
  },
  {
   "cell_type": "markdown",
   "id": "bd4f1836",
   "metadata": {},
   "source": [
    "- **a,b** - параметри логарифмічної регресії,\n",
    "- **$\\mathbf{y_{i}}$** - курс долару для відповідного періоду **$\\mathbf{x_{i}}$**."
   ]
  },
  {
   "cell_type": "code",
   "execution_count": null,
   "id": "a4645fd5",
   "metadata": {},
   "outputs": [],
   "source": []
  }
 ],
 "metadata": {
  "kernelspec": {
   "display_name": "Python 3 (ipykernel)",
   "language": "python",
   "name": "python3"
  },
  "language_info": {
   "codemirror_mode": {
    "name": "ipython",
    "version": 3
   },
   "file_extension": ".py",
   "mimetype": "text/x-python",
   "name": "python",
   "nbconvert_exporter": "python",
   "pygments_lexer": "ipython3",
   "version": "3.9.13"
  },
  "toc": {
   "base_numbering": 1,
   "nav_menu": {},
   "number_sections": true,
   "sideBar": true,
   "skip_h1_title": false,
   "title_cell": "Table of Contents",
   "title_sidebar": "Contents",
   "toc_cell": false,
   "toc_position": {},
   "toc_section_display": true,
   "toc_window_display": false
  },
  "varInspector": {
   "cols": {
    "lenName": 16,
    "lenType": 16,
    "lenVar": 40
   },
   "kernels_config": {
    "python": {
     "delete_cmd_postfix": "",
     "delete_cmd_prefix": "del ",
     "library": "var_list.py",
     "varRefreshCmd": "print(var_dic_list())"
    },
    "r": {
     "delete_cmd_postfix": ") ",
     "delete_cmd_prefix": "rm(",
     "library": "var_list.r",
     "varRefreshCmd": "cat(var_dic_list()) "
    }
   },
   "types_to_exclude": [
    "module",
    "function",
    "builtin_function_or_method",
    "instance",
    "_Feature"
   ],
   "window_display": false
  }
 },
 "nbformat": 4,
 "nbformat_minor": 5
}
