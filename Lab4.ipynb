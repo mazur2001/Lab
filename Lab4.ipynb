{
  "cells": [
    {
      "cell_type": "markdown",
      "id": "c467f4c0",
      "metadata": {
        "id": "c467f4c0"
      },
      "source": [
        "# Завдання №1 \"Створення DataFrame\""
      ]
    },
    {
      "cell_type": "markdown",
      "id": "40c043bd",
      "metadata": {
        "id": "40c043bd"
      },
      "source": [
        "## Завдання №1.1"
      ]
    },
    {
      "cell_type": "code",
      "execution_count": 22,
      "id": "dc63d89c",
      "metadata": {
        "id": "dc63d89c"
      },
      "outputs": [],
      "source": [
        "import pandas as pd\n",
        "import numpy as np"
      ]
    },
    {
      "cell_type": "code",
      "execution_count": 23,
      "id": "a832af8b",
      "metadata": {
        "colab": {
          "base_uri": "https://localhost:8080/"
        },
        "id": "a832af8b",
        "outputId": "0823d6be-ea9f-45f2-9873-5ca451ae5053"
      },
      "outputs": [
        {
          "output_type": "stream",
          "name": "stdout",
          "text": [
            "   Прості числа\n",
            "0             2\n",
            "1             4\n",
            "2             5\n",
            "3             8\n",
            "4            14\n",
            "5            17\n",
            "6            19\n",
            "7            22\n",
            "8            23\n",
            "9            31\n"
          ]
        }
      ],
      "source": [
        "prime_numbers = [2, 4, 5, 8, 14, 17, 19, 22, 23, 31]\n",
        "\n",
        "df1_1 = pd.DataFrame(prime_numbers, columns=['Прості числа'])\n",
        "print(df1_1)"
      ]
    },
    {
      "cell_type": "markdown",
      "id": "4894dd9c",
      "metadata": {
        "id": "4894dd9c"
      },
      "source": [
        "## Завдання №1.2"
      ]
    },
    {
      "cell_type": "code",
      "execution_count": 24,
      "id": "fae0d79f",
      "metadata": {
        "colab": {
          "base_uri": "https://localhost:8080/"
        },
        "id": "fae0d79f",
        "outputId": "f7463610-519b-494c-9aa9-a2e5d63eb5fa"
      },
      "outputs": [
        {
          "output_type": "stream",
          "name": "stdout",
          "text": [
            "          0         1         2         3         4         5\n",
            "0  0.548205  0.486111  0.656426  0.575845  0.327470  0.044550\n",
            "1  0.058801  0.190146  0.921425  0.944920  0.576169  0.299580\n",
            "2  0.551588  0.236572  0.166081  0.821322  0.066267  0.102087\n",
            "3  0.088366  0.702245  0.909642  0.189962  0.291671  0.796134\n",
            "4  0.691697  0.983099  0.364469  0.476650  0.120538  0.670021\n"
          ]
        }
      ],
      "source": [
        "random_array = np.random.rand(5, 6)\n",
        "df1_2 = pd.DataFrame(random_array)\n",
        "print(df1_2)"
      ]
    },
    {
      "cell_type": "markdown",
      "id": "5405cdea",
      "metadata": {
        "id": "5405cdea"
      },
      "source": [
        "## Завдання №1.3"
      ]
    },
    {
      "cell_type": "code",
      "execution_count": 25,
      "id": "65a02f48",
      "metadata": {
        "colab": {
          "base_uri": "https://localhost:8080/"
        },
        "id": "65a02f48",
        "outputId": "b979ac7f-fd9e-4f64-ca7f-86ba279fa6f1"
      },
      "outputs": [
        {
          "output_type": "stream",
          "name": "stdout",
          "text": [
            "      ім'я    прізвище  рік народження       телефон\n",
            "0    Денис      Козлов            1998  123-321-2288\n",
            "1     Влад  Шкибиченко            2005  096-555-1234\n",
            "2  Серьога       Бабич            2006  095-454-9800\n"
          ]
        }
      ],
      "source": [
        "data = {\n",
        "    'ім\\'я': ['Денис', 'Влад', 'Серьога'],\n",
        "    'прізвище': ['Козлов', 'Шкибиченко', 'Бабич'],\n",
        "    'рік народження': [1998, 2005, 2006],\n",
        "    'телефон': ['123-321-2288', '096-555-1234', '095-454-9800']\n",
        "}\n",
        "\n",
        "df = pd.DataFrame(data)\n",
        "print(df)"
      ]
    },
    {
      "cell_type": "markdown",
      "id": "befdbdb8",
      "metadata": {
        "id": "befdbdb8"
      },
      "source": [
        "## Завдання №1.4"
      ]
    },
    {
      "cell_type": "markdown",
      "id": "a202f0bd",
      "metadata": {
        "scrolled": true,
        "id": "a202f0bd"
      },
      "source": [
        "Завдання не можна виконати, адже посилання (https://file-examples-com.github.io/uploads/2017/02/file_example_XLS_100.xls) не працює."
      ]
    },
    {
      "cell_type": "markdown",
      "id": "b133e2b4",
      "metadata": {
        "id": "b133e2b4"
      },
      "source": [
        "# Завдання №2 \"Інспектування DataFrame\""
      ]
    },
    {
      "cell_type": "markdown",
      "id": "74bc5cdb",
      "metadata": {
        "id": "74bc5cdb"
      },
      "source": [
        "## Завдання №2.1"
      ]
    },
    {
      "cell_type": "code",
      "execution_count": 9,
      "id": "bf37c9c2",
      "metadata": {
        "id": "bf37c9c2"
      },
      "outputs": [],
      "source": [
        "url = \"https://raw.githubusercontent.com/datasciencedojo/datasets/master/titanic.csv\"\n",
        "titanic = pd.read_csv(url)"
      ]
    },
    {
      "cell_type": "code",
      "execution_count": 10,
      "id": "23aa62c4",
      "metadata": {
        "colab": {
          "base_uri": "https://localhost:8080/"
        },
        "id": "23aa62c4",
        "outputId": "f64b1185-94f1-431c-c864-63d484d7e360"
      },
      "outputs": [
        {
          "output_type": "stream",
          "name": "stdout",
          "text": [
            "       PassengerId    Survived      Pclass         Age       SibSp  \\\n",
            "count   891.000000  891.000000  891.000000  714.000000  891.000000   \n",
            "mean    446.000000    0.383838    2.308642   29.699118    0.523008   \n",
            "std     257.353842    0.486592    0.836071   14.526497    1.102743   \n",
            "min       1.000000    0.000000    1.000000    0.420000    0.000000   \n",
            "25%     223.500000    0.000000    2.000000   20.125000    0.000000   \n",
            "50%     446.000000    0.000000    3.000000   28.000000    0.000000   \n",
            "75%     668.500000    1.000000    3.000000   38.000000    1.000000   \n",
            "max     891.000000    1.000000    3.000000   80.000000    8.000000   \n",
            "\n",
            "            Parch        Fare  \n",
            "count  891.000000  891.000000  \n",
            "mean     0.381594   32.204208  \n",
            "std      0.806057   49.693429  \n",
            "min      0.000000    0.000000  \n",
            "25%      0.000000    7.910400  \n",
            "50%      0.000000   14.454200  \n",
            "75%      0.000000   31.000000  \n",
            "max      6.000000  512.329200  \n"
          ]
        }
      ],
      "source": [
        "url = \"https://raw.githubusercontent.com/datasciencedojo/datasets/master/titanic.csv\"\n",
        "titanic_df = pd.read_csv(url)\n",
        "print(titanic_df.describe())"
      ]
    },
    {
      "cell_type": "markdown",
      "id": "ec60b71e",
      "metadata": {
        "id": "ec60b71e"
      },
      "source": [
        "## Завдання №2.2"
      ]
    },
    {
      "cell_type": "code",
      "execution_count": 11,
      "id": "07ee5923",
      "metadata": {
        "colab": {
          "base_uri": "https://localhost:8080/"
        },
        "id": "07ee5923",
        "outputId": "5d0fd75a-00dd-4f31-add2-119cfd7d8cda"
      },
      "outputs": [
        {
          "output_type": "stream",
          "name": "stdout",
          "text": [
            "Статистика Age:\n",
            "count    714.000000\n",
            "mean      29.699118\n",
            "std       14.526497\n",
            "min        0.420000\n",
            "25%       20.125000\n",
            "50%       28.000000\n",
            "75%       38.000000\n",
            "max       80.000000\n",
            "Name: Age, dtype: float64\n",
            "\n",
            "Статистика Fare:\n",
            "count    891.000000\n",
            "mean      32.204208\n",
            "std       49.693429\n",
            "min        0.000000\n",
            "25%        7.910400\n",
            "50%       14.454200\n",
            "75%       31.000000\n",
            "max      512.329200\n",
            "Name: Fare, dtype: float64\n"
          ]
        }
      ],
      "source": [
        "url = \"https://raw.githubusercontent.com/datasciencedojo/datasets/master/titanic.csv\"\n",
        "titanic_df = pd.read_csv(url)\n",
        "\n",
        "age_stats = titanic_df['Age'].describe()\n",
        "fare_stats = titanic_df['Fare'].describe()\n",
        "\n",
        "print(\"Статистика Age:\")\n",
        "print(age_stats)\n",
        "\n",
        "print(\"\\nСтатистика Fare:\")\n",
        "print(fare_stats)"
      ]
    },
    {
      "cell_type": "markdown",
      "id": "39ce0468",
      "metadata": {
        "id": "39ce0468"
      },
      "source": [
        "## Завдання №2.3"
      ]
    },
    {
      "cell_type": "code",
      "execution_count": 12,
      "id": "98caf0bf",
      "metadata": {
        "colab": {
          "base_uri": "https://localhost:8080/"
        },
        "id": "98caf0bf",
        "outputId": "d06a5e3f-7568-4eb3-e991-2adfd795af9f"
      },
      "outputs": [
        {
          "output_type": "stream",
          "name": "stdout",
          "text": [
            "Кількість рядків, де заповнені усі показники: 183\n"
          ]
        }
      ],
      "source": [
        "url = \"https://raw.githubusercontent.com/datasciencedojo/datasets/master/titanic.csv\"\n",
        "titanic_df = pd.read_csv(url)\n",
        "\n",
        "complete_rows = titanic_df.dropna()\n",
        "num_complete_rows = len(complete_rows)\n",
        "print(\"Кількість рядків, де заповнені усі показники:\", num_complete_rows)"
      ]
    },
    {
      "cell_type": "markdown",
      "id": "7ffc1f0d",
      "metadata": {
        "id": "7ffc1f0d"
      },
      "source": [
        "## Завдання №2.4"
      ]
    },
    {
      "cell_type": "code",
      "execution_count": 13,
      "id": "72ff9b8c",
      "metadata": {
        "colab": {
          "base_uri": "https://localhost:8080/"
        },
        "id": "72ff9b8c",
        "outputId": "3c49c42b-842e-4969-9cf5-d2eb112482dc"
      },
      "outputs": [
        {
          "output_type": "stream",
          "name": "stdout",
          "text": [
            "Кількість виживших пасажирів жіночої статі: 233\n"
          ]
        }
      ],
      "source": [
        "url = \"https://raw.githubusercontent.com/datasciencedojo/datasets/master/titanic.csv\"\n",
        "titanic_df = pd.read_csv(url)\n",
        "\n",
        "print(\"Кількість виживших пасажирів жіночої статі:\", titanic_df.groupby(['Survived', 'Sex']).size().loc[1,'female'])"
      ]
    },
    {
      "cell_type": "markdown",
      "id": "82b6b76c",
      "metadata": {
        "id": "82b6b76c"
      },
      "source": [
        "# Завдання №3 \"Перетворення датафреймів\""
      ]
    },
    {
      "cell_type": "markdown",
      "id": "b507a435",
      "metadata": {
        "id": "b507a435"
      },
      "source": [
        "## Завдання №3.1"
      ]
    },
    {
      "cell_type": "code",
      "execution_count": 26,
      "id": "323266b5",
      "metadata": {
        "colab": {
          "base_uri": "https://localhost:8080/"
        },
        "id": "323266b5",
        "outputId": "52131ba8-cfe5-4013-de98-2523e73028c6"
      },
      "outputs": [
        {
          "output_type": "stream",
          "name": "stdout",
          "text": [
            "      ім'я  вік рейтинг\n",
            "0  Ібрагім   18      12\n",
            "1     Адам   26       1\n",
            "2  Азазель   16      10\n"
          ]
        }
      ],
      "source": [
        "d = {\n",
        "    \"ім'я\"    : [\"Ібрагім\", \"Адам\", \"Азазель\"],\n",
        "    \"вік\"     : [18, 26 , 16],\n",
        "    \"рейтинг\" : [\"12\", \"1\", \"10\"]\n",
        "}\n",
        "\n",
        "df = pd.DataFrame(d)\n",
        "print(df)"
      ]
    },
    {
      "cell_type": "markdown",
      "id": "0ece6c65",
      "metadata": {
        "id": "0ece6c65"
      },
      "source": [
        "## Завдання №3.2"
      ]
    },
    {
      "cell_type": "code",
      "execution_count": 27,
      "id": "16bd7842",
      "metadata": {
        "colab": {
          "base_uri": "https://localhost:8080/"
        },
        "id": "16bd7842",
        "outputId": "0e88f27f-b17b-48f4-f3d7-05a0ea5a83ca"
      },
      "outputs": [
        {
          "output_type": "stream",
          "name": "stdout",
          "text": [
            "      ім'я  вік рейтинг  рік завершення школи\n",
            "0  Ібрагім   18      12                  2019\n",
            "1    Адама   26       1                  2008\n",
            "2  Азазель   16      10                  2004\n"
          ]
        }
      ],
      "source": [
        "d = {\n",
        "    \"ім'я\"    : [\"Ібрагім\", \"Адама\", \"Азазель\"],\n",
        "    \"вік\"     : [18, 26 , 16],\n",
        "    \"рейтинг\" : [\"12\", \"1\", \"10\"]\n",
        "}\n",
        "df = pd.DataFrame(d)\n",
        "\n",
        "df['рік завершення школи'] = [2019, 2008, 2004]\n",
        "\n",
        "print(df)"
      ]
    },
    {
      "cell_type": "markdown",
      "id": "b3df0249",
      "metadata": {
        "id": "b3df0249"
      },
      "source": [
        "## Завдання №3.3"
      ]
    },
    {
      "cell_type": "code",
      "execution_count": 30,
      "id": "067870f6",
      "metadata": {
        "colab": {
          "base_uri": "https://localhost:8080/"
        },
        "id": "067870f6",
        "outputId": "d7635b67-d4a7-4631-fe78-1eb22d1cab8a"
      },
      "outputs": [
        {
          "output_type": "stream",
          "name": "stdout",
          "text": [
            "      ім'я  вік рейтинг  рік завершення школи\n",
            "0  Ібрагім   18      12                  2019\n",
            "1    Адама   26       1                  2008\n",
            "2  Азазель   16      10                  2004\n"
          ]
        }
      ],
      "source": [
        "df.at[2, 'рік завершення школи'] = 2004\n",
        "print(df)"
      ]
    },
    {
      "cell_type": "markdown",
      "id": "aeb399da",
      "metadata": {
        "id": "aeb399da"
      },
      "source": [
        "## Завдання №3.4"
      ]
    },
    {
      "cell_type": "code",
      "execution_count": 18,
      "id": "28bc81c3",
      "metadata": {
        "colab": {
          "base_uri": "https://localhost:8080/"
        },
        "id": "28bc81c3",
        "outputId": "1a7db5db-d42e-46d9-82cf-6ef2061177dd"
      },
      "outputs": [
        {
          "output_type": "stream",
          "name": "stdout",
          "text": [
            "     PassengerId  Survived  Pclass                                      Name  \\\n",
            "881          882         0       3                        Markun, Mr. Johann   \n",
            "882          883         0       3              Dahlberg, Miss. Gerda Ulrika   \n",
            "883          884         0       2             Banfield, Mr. Frederick James   \n",
            "884          885         0       3                    Sutehall, Mr. Henry Jr   \n",
            "885          886         0       3      Rice, Mrs. William (Margaret Norton)   \n",
            "886          887         0       2                     Montvila, Rev. Juozas   \n",
            "887          888         1       1              Graham, Miss. Margaret Edith   \n",
            "888          889         0       3  Johnston, Miss. Catherine Helen \"Carrie\"   \n",
            "889          890         1       1                     Behr, Mr. Karl Howell   \n",
            "890          891         0       3                       Dooley, Mr. Patrick   \n",
            "\n",
            "        Sex   Age  SibSp  Parch            Ticket     Fare Cabin Embarked  \n",
            "881    male  33.0      0      0            349257   7.8958   NaN        S  \n",
            "882  female  22.0      0      0              7552  10.5167   NaN        S  \n",
            "883    male  28.0      0      0  C.A./SOTON 34068  10.5000   NaN        S  \n",
            "884    male  25.0      0      0   SOTON/OQ 392076   7.0500   NaN        S  \n",
            "885  female  39.0      0      5            382652  29.1250   NaN        Q  \n",
            "886    male  27.0      0      0            211536  13.0000   NaN        S  \n",
            "887  female  19.0      0      0            112053  30.0000   B42        S  \n",
            "888  female   NaN      1      2        W./C. 6607  23.4500   NaN        S  \n",
            "889    male  26.0      0      0            111369  30.0000  C148        C  \n",
            "890    male  32.0      0      0            370376   7.7500   NaN        Q  \n"
          ]
        }
      ],
      "source": [
        "url = \"https://raw.githubusercontent.com/datasciencedojo/datasets/master/titanic.csv\"\n",
        "titanic_df = pd.read_csv(url)\n",
        "\n",
        "print(titanic.tail(10))"
      ]
    },
    {
      "cell_type": "markdown",
      "id": "9bdc08ae",
      "metadata": {
        "id": "9bdc08ae"
      },
      "source": [
        "## Завдання №3.5"
      ]
    },
    {
      "cell_type": "code",
      "execution_count": 19,
      "id": "d1f7b20f",
      "metadata": {
        "colab": {
          "base_uri": "https://localhost:8080/",
          "height": 1000
        },
        "id": "d1f7b20f",
        "outputId": "23c34b76-6f18-4f96-d8d5-eb722079bf89"
      },
      "outputs": [
        {
          "output_type": "execute_result",
          "data": {
            "text/plain": [
              "     PassengerId  Survived  Pclass  \\\n",
              "72            73         0       2   \n",
              "117          118         0       2   \n",
              "120          121         0       2   \n",
              "134          135         0       2   \n",
              "135          136         0       2   \n",
              "178          179         0       2   \n",
              "213          214         0       2   \n",
              "219          220         0       2   \n",
              "221          222         0       2   \n",
              "234          235         0       2   \n",
              "242          243         0       2   \n",
              "308          309         0       2   \n",
              "342          343         0       2   \n",
              "343          344         0       2   \n",
              "361          362         0       2   \n",
              "398          399         0       2   \n",
              "418          419         0       2   \n",
              "529          530         0       2   \n",
              "551          552         0       2   \n",
              "562          563         0       2   \n",
              "619          620         0       2   \n",
              "655          656         0       2   \n",
              "658          659         0       2   \n",
              "666          667         0       2   \n",
              "685          686         0       2   \n",
              "728          729         0       2   \n",
              "733          734         0       2   \n",
              "734          735         0       2   \n",
              "848          849         0       2   \n",
              "861          862         0       2   \n",
              "864          865         0       2   \n",
              "883          884         0       2   \n",
              "886          887         0       2   \n",
              "\n",
              "                                           Name   Sex   Age  SibSp  Parch  \\\n",
              "72                         Hood, Mr. Ambrose Jr  male  21.0      0      0   \n",
              "117             Turpin, Mr. William John Robert  male  29.0      1      0   \n",
              "120                 Hickman, Mr. Stanley George  male  21.0      2      0   \n",
              "134              Sobey, Mr. Samuel James Hayden  male  25.0      0      0   \n",
              "135                          Richard, Mr. Emile  male  23.0      0      0   \n",
              "178                          Hale, Mr. Reginald  male  30.0      0      0   \n",
              "213                 Givard, Mr. Hans Kristensen  male  30.0      0      0   \n",
              "219                          Harris, Mr. Walter  male  30.0      0      0   \n",
              "221                        Bracken, Mr. James H  male  27.0      0      0   \n",
              "234           Leyson, Mr. Robert William Norman  male  24.0      0      0   \n",
              "242             Coleridge, Mr. Reginald Charles  male  29.0      0      0   \n",
              "308                         Abelson, Mr. Samuel  male  30.0      1      0   \n",
              "342                  Collander, Mr. Erik Gustaf  male  28.0      0      0   \n",
              "343  Sedgwick, Mr. Charles Frederick Waddington  male  25.0      0      0   \n",
              "361                   del Carlo, Mr. Sebastiano  male  29.0      1      0   \n",
              "398                            Pain, Dr. Alfred  male  23.0      0      0   \n",
              "418                  Matthews, Mr. William John  male  30.0      0      0   \n",
              "529                 Hocking, Mr. Richard George  male  23.0      2      1   \n",
              "551                 Sharp, Mr. Percival James R  male  27.0      0      0   \n",
              "562                  Norman, Mr. Robert Douglas  male  28.0      0      0   \n",
              "619                         Gavey, Mr. Lawrence  male  26.0      0      0   \n",
              "655                   Hickman, Mr. Leonard Mark  male  24.0      2      0   \n",
              "658                Eitemiller, Mr. George Floyd  male  23.0      0      0   \n",
              "666                 Butler, Mr. Reginald Fenton  male  25.0      0      0   \n",
              "685      Laroche, Mr. Joseph Philippe Lemercier  male  25.0      1      2   \n",
              "728             Bryhl, Mr. Kurt Arnold Gottfrid  male  25.0      1      0   \n",
              "733                  Berriman, Mr. William John  male  23.0      0      0   \n",
              "734                Troupiansky, Mr. Moses Aaron  male  23.0      0      0   \n",
              "848                           Harper, Rev. John  male  28.0      0      1   \n",
              "861                 Giles, Mr. Frederick Edward  male  21.0      1      0   \n",
              "864                      Gill, Mr. John William  male  24.0      0      0   \n",
              "883               Banfield, Mr. Frederick James  male  28.0      0      0   \n",
              "886                       Montvila, Rev. Juozas  male  27.0      0      0   \n",
              "\n",
              "               Ticket     Fare Cabin Embarked  \n",
              "72       S.O.C. 14879  73.5000   NaN        S  \n",
              "117             11668  21.0000   NaN        S  \n",
              "120      S.O.C. 14879  73.5000   NaN        S  \n",
              "134        C.A. 29178  13.0000   NaN        S  \n",
              "135     SC/PARIS 2133  15.0458   NaN        C  \n",
              "178            250653  13.0000   NaN        S  \n",
              "213            250646  13.0000   NaN        S  \n",
              "219         W/C 14208  10.5000   NaN        S  \n",
              "221            220367  13.0000   NaN        S  \n",
              "234        C.A. 29566  10.5000   NaN        S  \n",
              "242       W./C. 14263  10.5000   NaN        S  \n",
              "308         P/PP 3381  24.0000   NaN        C  \n",
              "342            248740  13.0000   NaN        S  \n",
              "343            244361  13.0000   NaN        S  \n",
              "361     SC/PARIS 2167  27.7208   NaN        C  \n",
              "398            244278  10.5000   NaN        S  \n",
              "418             28228  13.0000   NaN        S  \n",
              "529             29104  11.5000   NaN        S  \n",
              "551            244358  26.0000   NaN        S  \n",
              "562            218629  13.5000   NaN        S  \n",
              "619             31028  10.5000   NaN        S  \n",
              "655      S.O.C. 14879  73.5000   NaN        S  \n",
              "658             29751  13.0000   NaN        S  \n",
              "666            234686  13.0000   NaN        S  \n",
              "685     SC/Paris 2123  41.5792   NaN        C  \n",
              "728            236853  26.0000   NaN        S  \n",
              "733             28425  13.0000   NaN        S  \n",
              "734            233639  13.0000   NaN        S  \n",
              "848            248727  33.0000   NaN        S  \n",
              "861             28134  11.5000   NaN        S  \n",
              "864            233866  13.0000   NaN        S  \n",
              "883  C.A./SOTON 34068  10.5000   NaN        S  \n",
              "886            211536  13.0000   NaN        S  "
            ],
            "text/html": [
              "\n",
              "  <div id=\"df-5d554941-bbf8-41f5-966a-4c49daddd55e\">\n",
              "    <div class=\"colab-df-container\">\n",
              "      <div>\n",
              "<style scoped>\n",
              "    .dataframe tbody tr th:only-of-type {\n",
              "        vertical-align: middle;\n",
              "    }\n",
              "\n",
              "    .dataframe tbody tr th {\n",
              "        vertical-align: top;\n",
              "    }\n",
              "\n",
              "    .dataframe thead th {\n",
              "        text-align: right;\n",
              "    }\n",
              "</style>\n",
              "<table border=\"1\" class=\"dataframe\">\n",
              "  <thead>\n",
              "    <tr style=\"text-align: right;\">\n",
              "      <th></th>\n",
              "      <th>PassengerId</th>\n",
              "      <th>Survived</th>\n",
              "      <th>Pclass</th>\n",
              "      <th>Name</th>\n",
              "      <th>Sex</th>\n",
              "      <th>Age</th>\n",
              "      <th>SibSp</th>\n",
              "      <th>Parch</th>\n",
              "      <th>Ticket</th>\n",
              "      <th>Fare</th>\n",
              "      <th>Cabin</th>\n",
              "      <th>Embarked</th>\n",
              "    </tr>\n",
              "  </thead>\n",
              "  <tbody>\n",
              "    <tr>\n",
              "      <th>72</th>\n",
              "      <td>73</td>\n",
              "      <td>0</td>\n",
              "      <td>2</td>\n",
              "      <td>Hood, Mr. Ambrose Jr</td>\n",
              "      <td>male</td>\n",
              "      <td>21.0</td>\n",
              "      <td>0</td>\n",
              "      <td>0</td>\n",
              "      <td>S.O.C. 14879</td>\n",
              "      <td>73.5000</td>\n",
              "      <td>NaN</td>\n",
              "      <td>S</td>\n",
              "    </tr>\n",
              "    <tr>\n",
              "      <th>117</th>\n",
              "      <td>118</td>\n",
              "      <td>0</td>\n",
              "      <td>2</td>\n",
              "      <td>Turpin, Mr. William John Robert</td>\n",
              "      <td>male</td>\n",
              "      <td>29.0</td>\n",
              "      <td>1</td>\n",
              "      <td>0</td>\n",
              "      <td>11668</td>\n",
              "      <td>21.0000</td>\n",
              "      <td>NaN</td>\n",
              "      <td>S</td>\n",
              "    </tr>\n",
              "    <tr>\n",
              "      <th>120</th>\n",
              "      <td>121</td>\n",
              "      <td>0</td>\n",
              "      <td>2</td>\n",
              "      <td>Hickman, Mr. Stanley George</td>\n",
              "      <td>male</td>\n",
              "      <td>21.0</td>\n",
              "      <td>2</td>\n",
              "      <td>0</td>\n",
              "      <td>S.O.C. 14879</td>\n",
              "      <td>73.5000</td>\n",
              "      <td>NaN</td>\n",
              "      <td>S</td>\n",
              "    </tr>\n",
              "    <tr>\n",
              "      <th>134</th>\n",
              "      <td>135</td>\n",
              "      <td>0</td>\n",
              "      <td>2</td>\n",
              "      <td>Sobey, Mr. Samuel James Hayden</td>\n",
              "      <td>male</td>\n",
              "      <td>25.0</td>\n",
              "      <td>0</td>\n",
              "      <td>0</td>\n",
              "      <td>C.A. 29178</td>\n",
              "      <td>13.0000</td>\n",
              "      <td>NaN</td>\n",
              "      <td>S</td>\n",
              "    </tr>\n",
              "    <tr>\n",
              "      <th>135</th>\n",
              "      <td>136</td>\n",
              "      <td>0</td>\n",
              "      <td>2</td>\n",
              "      <td>Richard, Mr. Emile</td>\n",
              "      <td>male</td>\n",
              "      <td>23.0</td>\n",
              "      <td>0</td>\n",
              "      <td>0</td>\n",
              "      <td>SC/PARIS 2133</td>\n",
              "      <td>15.0458</td>\n",
              "      <td>NaN</td>\n",
              "      <td>C</td>\n",
              "    </tr>\n",
              "    <tr>\n",
              "      <th>178</th>\n",
              "      <td>179</td>\n",
              "      <td>0</td>\n",
              "      <td>2</td>\n",
              "      <td>Hale, Mr. Reginald</td>\n",
              "      <td>male</td>\n",
              "      <td>30.0</td>\n",
              "      <td>0</td>\n",
              "      <td>0</td>\n",
              "      <td>250653</td>\n",
              "      <td>13.0000</td>\n",
              "      <td>NaN</td>\n",
              "      <td>S</td>\n",
              "    </tr>\n",
              "    <tr>\n",
              "      <th>213</th>\n",
              "      <td>214</td>\n",
              "      <td>0</td>\n",
              "      <td>2</td>\n",
              "      <td>Givard, Mr. Hans Kristensen</td>\n",
              "      <td>male</td>\n",
              "      <td>30.0</td>\n",
              "      <td>0</td>\n",
              "      <td>0</td>\n",
              "      <td>250646</td>\n",
              "      <td>13.0000</td>\n",
              "      <td>NaN</td>\n",
              "      <td>S</td>\n",
              "    </tr>\n",
              "    <tr>\n",
              "      <th>219</th>\n",
              "      <td>220</td>\n",
              "      <td>0</td>\n",
              "      <td>2</td>\n",
              "      <td>Harris, Mr. Walter</td>\n",
              "      <td>male</td>\n",
              "      <td>30.0</td>\n",
              "      <td>0</td>\n",
              "      <td>0</td>\n",
              "      <td>W/C 14208</td>\n",
              "      <td>10.5000</td>\n",
              "      <td>NaN</td>\n",
              "      <td>S</td>\n",
              "    </tr>\n",
              "    <tr>\n",
              "      <th>221</th>\n",
              "      <td>222</td>\n",
              "      <td>0</td>\n",
              "      <td>2</td>\n",
              "      <td>Bracken, Mr. James H</td>\n",
              "      <td>male</td>\n",
              "      <td>27.0</td>\n",
              "      <td>0</td>\n",
              "      <td>0</td>\n",
              "      <td>220367</td>\n",
              "      <td>13.0000</td>\n",
              "      <td>NaN</td>\n",
              "      <td>S</td>\n",
              "    </tr>\n",
              "    <tr>\n",
              "      <th>234</th>\n",
              "      <td>235</td>\n",
              "      <td>0</td>\n",
              "      <td>2</td>\n",
              "      <td>Leyson, Mr. Robert William Norman</td>\n",
              "      <td>male</td>\n",
              "      <td>24.0</td>\n",
              "      <td>0</td>\n",
              "      <td>0</td>\n",
              "      <td>C.A. 29566</td>\n",
              "      <td>10.5000</td>\n",
              "      <td>NaN</td>\n",
              "      <td>S</td>\n",
              "    </tr>\n",
              "    <tr>\n",
              "      <th>242</th>\n",
              "      <td>243</td>\n",
              "      <td>0</td>\n",
              "      <td>2</td>\n",
              "      <td>Coleridge, Mr. Reginald Charles</td>\n",
              "      <td>male</td>\n",
              "      <td>29.0</td>\n",
              "      <td>0</td>\n",
              "      <td>0</td>\n",
              "      <td>W./C. 14263</td>\n",
              "      <td>10.5000</td>\n",
              "      <td>NaN</td>\n",
              "      <td>S</td>\n",
              "    </tr>\n",
              "    <tr>\n",
              "      <th>308</th>\n",
              "      <td>309</td>\n",
              "      <td>0</td>\n",
              "      <td>2</td>\n",
              "      <td>Abelson, Mr. Samuel</td>\n",
              "      <td>male</td>\n",
              "      <td>30.0</td>\n",
              "      <td>1</td>\n",
              "      <td>0</td>\n",
              "      <td>P/PP 3381</td>\n",
              "      <td>24.0000</td>\n",
              "      <td>NaN</td>\n",
              "      <td>C</td>\n",
              "    </tr>\n",
              "    <tr>\n",
              "      <th>342</th>\n",
              "      <td>343</td>\n",
              "      <td>0</td>\n",
              "      <td>2</td>\n",
              "      <td>Collander, Mr. Erik Gustaf</td>\n",
              "      <td>male</td>\n",
              "      <td>28.0</td>\n",
              "      <td>0</td>\n",
              "      <td>0</td>\n",
              "      <td>248740</td>\n",
              "      <td>13.0000</td>\n",
              "      <td>NaN</td>\n",
              "      <td>S</td>\n",
              "    </tr>\n",
              "    <tr>\n",
              "      <th>343</th>\n",
              "      <td>344</td>\n",
              "      <td>0</td>\n",
              "      <td>2</td>\n",
              "      <td>Sedgwick, Mr. Charles Frederick Waddington</td>\n",
              "      <td>male</td>\n",
              "      <td>25.0</td>\n",
              "      <td>0</td>\n",
              "      <td>0</td>\n",
              "      <td>244361</td>\n",
              "      <td>13.0000</td>\n",
              "      <td>NaN</td>\n",
              "      <td>S</td>\n",
              "    </tr>\n",
              "    <tr>\n",
              "      <th>361</th>\n",
              "      <td>362</td>\n",
              "      <td>0</td>\n",
              "      <td>2</td>\n",
              "      <td>del Carlo, Mr. Sebastiano</td>\n",
              "      <td>male</td>\n",
              "      <td>29.0</td>\n",
              "      <td>1</td>\n",
              "      <td>0</td>\n",
              "      <td>SC/PARIS 2167</td>\n",
              "      <td>27.7208</td>\n",
              "      <td>NaN</td>\n",
              "      <td>C</td>\n",
              "    </tr>\n",
              "    <tr>\n",
              "      <th>398</th>\n",
              "      <td>399</td>\n",
              "      <td>0</td>\n",
              "      <td>2</td>\n",
              "      <td>Pain, Dr. Alfred</td>\n",
              "      <td>male</td>\n",
              "      <td>23.0</td>\n",
              "      <td>0</td>\n",
              "      <td>0</td>\n",
              "      <td>244278</td>\n",
              "      <td>10.5000</td>\n",
              "      <td>NaN</td>\n",
              "      <td>S</td>\n",
              "    </tr>\n",
              "    <tr>\n",
              "      <th>418</th>\n",
              "      <td>419</td>\n",
              "      <td>0</td>\n",
              "      <td>2</td>\n",
              "      <td>Matthews, Mr. William John</td>\n",
              "      <td>male</td>\n",
              "      <td>30.0</td>\n",
              "      <td>0</td>\n",
              "      <td>0</td>\n",
              "      <td>28228</td>\n",
              "      <td>13.0000</td>\n",
              "      <td>NaN</td>\n",
              "      <td>S</td>\n",
              "    </tr>\n",
              "    <tr>\n",
              "      <th>529</th>\n",
              "      <td>530</td>\n",
              "      <td>0</td>\n",
              "      <td>2</td>\n",
              "      <td>Hocking, Mr. Richard George</td>\n",
              "      <td>male</td>\n",
              "      <td>23.0</td>\n",
              "      <td>2</td>\n",
              "      <td>1</td>\n",
              "      <td>29104</td>\n",
              "      <td>11.5000</td>\n",
              "      <td>NaN</td>\n",
              "      <td>S</td>\n",
              "    </tr>\n",
              "    <tr>\n",
              "      <th>551</th>\n",
              "      <td>552</td>\n",
              "      <td>0</td>\n",
              "      <td>2</td>\n",
              "      <td>Sharp, Mr. Percival James R</td>\n",
              "      <td>male</td>\n",
              "      <td>27.0</td>\n",
              "      <td>0</td>\n",
              "      <td>0</td>\n",
              "      <td>244358</td>\n",
              "      <td>26.0000</td>\n",
              "      <td>NaN</td>\n",
              "      <td>S</td>\n",
              "    </tr>\n",
              "    <tr>\n",
              "      <th>562</th>\n",
              "      <td>563</td>\n",
              "      <td>0</td>\n",
              "      <td>2</td>\n",
              "      <td>Norman, Mr. Robert Douglas</td>\n",
              "      <td>male</td>\n",
              "      <td>28.0</td>\n",
              "      <td>0</td>\n",
              "      <td>0</td>\n",
              "      <td>218629</td>\n",
              "      <td>13.5000</td>\n",
              "      <td>NaN</td>\n",
              "      <td>S</td>\n",
              "    </tr>\n",
              "    <tr>\n",
              "      <th>619</th>\n",
              "      <td>620</td>\n",
              "      <td>0</td>\n",
              "      <td>2</td>\n",
              "      <td>Gavey, Mr. Lawrence</td>\n",
              "      <td>male</td>\n",
              "      <td>26.0</td>\n",
              "      <td>0</td>\n",
              "      <td>0</td>\n",
              "      <td>31028</td>\n",
              "      <td>10.5000</td>\n",
              "      <td>NaN</td>\n",
              "      <td>S</td>\n",
              "    </tr>\n",
              "    <tr>\n",
              "      <th>655</th>\n",
              "      <td>656</td>\n",
              "      <td>0</td>\n",
              "      <td>2</td>\n",
              "      <td>Hickman, Mr. Leonard Mark</td>\n",
              "      <td>male</td>\n",
              "      <td>24.0</td>\n",
              "      <td>2</td>\n",
              "      <td>0</td>\n",
              "      <td>S.O.C. 14879</td>\n",
              "      <td>73.5000</td>\n",
              "      <td>NaN</td>\n",
              "      <td>S</td>\n",
              "    </tr>\n",
              "    <tr>\n",
              "      <th>658</th>\n",
              "      <td>659</td>\n",
              "      <td>0</td>\n",
              "      <td>2</td>\n",
              "      <td>Eitemiller, Mr. George Floyd</td>\n",
              "      <td>male</td>\n",
              "      <td>23.0</td>\n",
              "      <td>0</td>\n",
              "      <td>0</td>\n",
              "      <td>29751</td>\n",
              "      <td>13.0000</td>\n",
              "      <td>NaN</td>\n",
              "      <td>S</td>\n",
              "    </tr>\n",
              "    <tr>\n",
              "      <th>666</th>\n",
              "      <td>667</td>\n",
              "      <td>0</td>\n",
              "      <td>2</td>\n",
              "      <td>Butler, Mr. Reginald Fenton</td>\n",
              "      <td>male</td>\n",
              "      <td>25.0</td>\n",
              "      <td>0</td>\n",
              "      <td>0</td>\n",
              "      <td>234686</td>\n",
              "      <td>13.0000</td>\n",
              "      <td>NaN</td>\n",
              "      <td>S</td>\n",
              "    </tr>\n",
              "    <tr>\n",
              "      <th>685</th>\n",
              "      <td>686</td>\n",
              "      <td>0</td>\n",
              "      <td>2</td>\n",
              "      <td>Laroche, Mr. Joseph Philippe Lemercier</td>\n",
              "      <td>male</td>\n",
              "      <td>25.0</td>\n",
              "      <td>1</td>\n",
              "      <td>2</td>\n",
              "      <td>SC/Paris 2123</td>\n",
              "      <td>41.5792</td>\n",
              "      <td>NaN</td>\n",
              "      <td>C</td>\n",
              "    </tr>\n",
              "    <tr>\n",
              "      <th>728</th>\n",
              "      <td>729</td>\n",
              "      <td>0</td>\n",
              "      <td>2</td>\n",
              "      <td>Bryhl, Mr. Kurt Arnold Gottfrid</td>\n",
              "      <td>male</td>\n",
              "      <td>25.0</td>\n",
              "      <td>1</td>\n",
              "      <td>0</td>\n",
              "      <td>236853</td>\n",
              "      <td>26.0000</td>\n",
              "      <td>NaN</td>\n",
              "      <td>S</td>\n",
              "    </tr>\n",
              "    <tr>\n",
              "      <th>733</th>\n",
              "      <td>734</td>\n",
              "      <td>0</td>\n",
              "      <td>2</td>\n",
              "      <td>Berriman, Mr. William John</td>\n",
              "      <td>male</td>\n",
              "      <td>23.0</td>\n",
              "      <td>0</td>\n",
              "      <td>0</td>\n",
              "      <td>28425</td>\n",
              "      <td>13.0000</td>\n",
              "      <td>NaN</td>\n",
              "      <td>S</td>\n",
              "    </tr>\n",
              "    <tr>\n",
              "      <th>734</th>\n",
              "      <td>735</td>\n",
              "      <td>0</td>\n",
              "      <td>2</td>\n",
              "      <td>Troupiansky, Mr. Moses Aaron</td>\n",
              "      <td>male</td>\n",
              "      <td>23.0</td>\n",
              "      <td>0</td>\n",
              "      <td>0</td>\n",
              "      <td>233639</td>\n",
              "      <td>13.0000</td>\n",
              "      <td>NaN</td>\n",
              "      <td>S</td>\n",
              "    </tr>\n",
              "    <tr>\n",
              "      <th>848</th>\n",
              "      <td>849</td>\n",
              "      <td>0</td>\n",
              "      <td>2</td>\n",
              "      <td>Harper, Rev. John</td>\n",
              "      <td>male</td>\n",
              "      <td>28.0</td>\n",
              "      <td>0</td>\n",
              "      <td>1</td>\n",
              "      <td>248727</td>\n",
              "      <td>33.0000</td>\n",
              "      <td>NaN</td>\n",
              "      <td>S</td>\n",
              "    </tr>\n",
              "    <tr>\n",
              "      <th>861</th>\n",
              "      <td>862</td>\n",
              "      <td>0</td>\n",
              "      <td>2</td>\n",
              "      <td>Giles, Mr. Frederick Edward</td>\n",
              "      <td>male</td>\n",
              "      <td>21.0</td>\n",
              "      <td>1</td>\n",
              "      <td>0</td>\n",
              "      <td>28134</td>\n",
              "      <td>11.5000</td>\n",
              "      <td>NaN</td>\n",
              "      <td>S</td>\n",
              "    </tr>\n",
              "    <tr>\n",
              "      <th>864</th>\n",
              "      <td>865</td>\n",
              "      <td>0</td>\n",
              "      <td>2</td>\n",
              "      <td>Gill, Mr. John William</td>\n",
              "      <td>male</td>\n",
              "      <td>24.0</td>\n",
              "      <td>0</td>\n",
              "      <td>0</td>\n",
              "      <td>233866</td>\n",
              "      <td>13.0000</td>\n",
              "      <td>NaN</td>\n",
              "      <td>S</td>\n",
              "    </tr>\n",
              "    <tr>\n",
              "      <th>883</th>\n",
              "      <td>884</td>\n",
              "      <td>0</td>\n",
              "      <td>2</td>\n",
              "      <td>Banfield, Mr. Frederick James</td>\n",
              "      <td>male</td>\n",
              "      <td>28.0</td>\n",
              "      <td>0</td>\n",
              "      <td>0</td>\n",
              "      <td>C.A./SOTON 34068</td>\n",
              "      <td>10.5000</td>\n",
              "      <td>NaN</td>\n",
              "      <td>S</td>\n",
              "    </tr>\n",
              "    <tr>\n",
              "      <th>886</th>\n",
              "      <td>887</td>\n",
              "      <td>0</td>\n",
              "      <td>2</td>\n",
              "      <td>Montvila, Rev. Juozas</td>\n",
              "      <td>male</td>\n",
              "      <td>27.0</td>\n",
              "      <td>0</td>\n",
              "      <td>0</td>\n",
              "      <td>211536</td>\n",
              "      <td>13.0000</td>\n",
              "      <td>NaN</td>\n",
              "      <td>S</td>\n",
              "    </tr>\n",
              "  </tbody>\n",
              "</table>\n",
              "</div>\n",
              "      <button class=\"colab-df-convert\" onclick=\"convertToInteractive('df-5d554941-bbf8-41f5-966a-4c49daddd55e')\"\n",
              "              title=\"Convert this dataframe to an interactive table.\"\n",
              "              style=\"display:none;\">\n",
              "        \n",
              "  <svg xmlns=\"http://www.w3.org/2000/svg\" height=\"24px\"viewBox=\"0 0 24 24\"\n",
              "       width=\"24px\">\n",
              "    <path d=\"M0 0h24v24H0V0z\" fill=\"none\"/>\n",
              "    <path d=\"M18.56 5.44l.94 2.06.94-2.06 2.06-.94-2.06-.94-.94-2.06-.94 2.06-2.06.94zm-11 1L8.5 8.5l.94-2.06 2.06-.94-2.06-.94L8.5 2.5l-.94 2.06-2.06.94zm10 10l.94 2.06.94-2.06 2.06-.94-2.06-.94-.94-2.06-.94 2.06-2.06.94z\"/><path d=\"M17.41 7.96l-1.37-1.37c-.4-.4-.92-.59-1.43-.59-.52 0-1.04.2-1.43.59L10.3 9.45l-7.72 7.72c-.78.78-.78 2.05 0 2.83L4 21.41c.39.39.9.59 1.41.59.51 0 1.02-.2 1.41-.59l7.78-7.78 2.81-2.81c.8-.78.8-2.07 0-2.86zM5.41 20L4 18.59l7.72-7.72 1.47 1.35L5.41 20z\"/>\n",
              "  </svg>\n",
              "      </button>\n",
              "      \n",
              "  <style>\n",
              "    .colab-df-container {\n",
              "      display:flex;\n",
              "      flex-wrap:wrap;\n",
              "      gap: 12px;\n",
              "    }\n",
              "\n",
              "    .colab-df-convert {\n",
              "      background-color: #E8F0FE;\n",
              "      border: none;\n",
              "      border-radius: 50%;\n",
              "      cursor: pointer;\n",
              "      display: none;\n",
              "      fill: #1967D2;\n",
              "      height: 32px;\n",
              "      padding: 0 0 0 0;\n",
              "      width: 32px;\n",
              "    }\n",
              "\n",
              "    .colab-df-convert:hover {\n",
              "      background-color: #E2EBFA;\n",
              "      box-shadow: 0px 1px 2px rgba(60, 64, 67, 0.3), 0px 1px 3px 1px rgba(60, 64, 67, 0.15);\n",
              "      fill: #174EA6;\n",
              "    }\n",
              "\n",
              "    [theme=dark] .colab-df-convert {\n",
              "      background-color: #3B4455;\n",
              "      fill: #D2E3FC;\n",
              "    }\n",
              "\n",
              "    [theme=dark] .colab-df-convert:hover {\n",
              "      background-color: #434B5C;\n",
              "      box-shadow: 0px 1px 3px 1px rgba(0, 0, 0, 0.15);\n",
              "      filter: drop-shadow(0px 1px 2px rgba(0, 0, 0, 0.3));\n",
              "      fill: #FFFFFF;\n",
              "    }\n",
              "  </style>\n",
              "\n",
              "      <script>\n",
              "        const buttonEl =\n",
              "          document.querySelector('#df-5d554941-bbf8-41f5-966a-4c49daddd55e button.colab-df-convert');\n",
              "        buttonEl.style.display =\n",
              "          google.colab.kernel.accessAllowed ? 'block' : 'none';\n",
              "\n",
              "        async function convertToInteractive(key) {\n",
              "          const element = document.querySelector('#df-5d554941-bbf8-41f5-966a-4c49daddd55e');\n",
              "          const dataTable =\n",
              "            await google.colab.kernel.invokeFunction('convertToInteractive',\n",
              "                                                     [key], {});\n",
              "          if (!dataTable) return;\n",
              "\n",
              "          const docLinkHtml = 'Like what you see? Visit the ' +\n",
              "            '<a target=\"_blank\" href=https://colab.research.google.com/notebooks/data_table.ipynb>data table notebook</a>'\n",
              "            + ' to learn more about interactive tables.';\n",
              "          element.innerHTML = '';\n",
              "          dataTable['output_type'] = 'display_data';\n",
              "          await google.colab.output.renderOutput(dataTable, element);\n",
              "          const docLink = document.createElement('div');\n",
              "          docLink.innerHTML = docLinkHtml;\n",
              "          element.appendChild(docLink);\n",
              "        }\n",
              "      </script>\n",
              "    </div>\n",
              "  </div>\n",
              "  "
            ]
          },
          "metadata": {},
          "execution_count": 19
        }
      ],
      "source": [
        "url = \"https://raw.githubusercontent.com/datasciencedojo/datasets/master/titanic.csv\"\n",
        "titanic_df = pd.read_csv(url)\n",
        "\n",
        "titanic_df.loc[(titanic_df['Sex'] == 'male') & \n",
        "               (titanic_df['Age'] >= 20) & \n",
        "               (titanic_df['Age'] <= 30) & \n",
        "               (titanic_df['Pclass'] == 2)]"
      ]
    },
    {
      "cell_type": "markdown",
      "id": "82d4796e",
      "metadata": {
        "id": "82d4796e"
      },
      "source": [
        "## Завдання №3.6"
      ]
    },
    {
      "cell_type": "code",
      "execution_count": 20,
      "id": "56a88f53",
      "metadata": {
        "colab": {
          "base_uri": "https://localhost:8080/"
        },
        "id": "56a88f53",
        "outputId": "80fe0c98-8251-41a3-9935-0fc798621ddf"
      },
      "outputs": [
        {
          "output_type": "stream",
          "name": "stdout",
          "text": [
            "None\n"
          ]
        }
      ],
      "source": [
        "url = \"https://raw.githubusercontent.com/datasciencedojo/datasets/master/titanic.csv\"\n",
        "titanic_df = pd.read_csv(url)\n",
        "\n",
        "print(titanic_df.dropna(subset=['Fare'], inplace=True))"
      ]
    },
    {
      "cell_type": "markdown",
      "id": "8deb8a11",
      "metadata": {
        "id": "8deb8a11"
      },
      "source": [
        "## Завдання №3.7"
      ]
    },
    {
      "cell_type": "code",
      "execution_count": 31,
      "id": "12521fab",
      "metadata": {
        "colab": {
          "base_uri": "https://localhost:8080/"
        },
        "id": "12521fab",
        "outputId": "fbf316b0-8f4f-4831-c431-debfeed09dc5"
      },
      "outputs": [
        {
          "output_type": "stream",
          "name": "stdout",
          "text": [
            "Середня вартість квитка у каютах 1-го класу: 84.1546875\n"
          ]
        }
      ],
      "source": [
        "url = \"https://raw.githubusercontent.com/datasciencedojo/datasets/master/titanic.csv\"\n",
        "titanic_df = pd.read_csv(url)\n",
        "\n",
        "avg_price = titanic_df.loc[titanic_df['Pclass'] == 1, 'Fare'].mean()\n",
        "print(\"Середня вартість квитка у каютах 1-го класу:\", avg_price)"
      ]
    },
    {
      "cell_type": "markdown",
      "id": "e4f10a89",
      "metadata": {
        "id": "e4f10a89"
      },
      "source": [
        "# Завдання №4 \"Агрегація датафреймів\""
      ]
    },
    {
      "cell_type": "markdown",
      "id": "bf377987",
      "metadata": {
        "id": "bf377987"
      },
      "source": [
        "## Завдання №4.1"
      ]
    },
    {
      "cell_type": "code",
      "execution_count": null,
      "id": "5d0e7dcb",
      "metadata": {
        "id": "5d0e7dcb",
        "outputId": "f75c7853-f989-4eed-c465-6a2720d95aa1"
      },
      "outputs": [
        {
          "name": "stdout",
          "output_type": "stream",
          "text": [
            "Sex\n",
            "female    63.0\n",
            "male      80.0\n",
            "Name: Age, dtype: float64\n"
          ]
        }
      ],
      "source": [
        "url = \"https://raw.githubusercontent.com/datasciencedojo/datasets/master/titanic.csv\"\n",
        "titanic_df = pd.read_csv(url)\n",
        "\n",
        "max_age = titanic_df.groupby('Sex')['Age'].max()\n",
        "print(max_age)"
      ]
    },
    {
      "cell_type": "markdown",
      "id": "36dec2e9",
      "metadata": {
        "id": "36dec2e9"
      },
      "source": [
        "## Завдання №4.2"
      ]
    },
    {
      "cell_type": "code",
      "execution_count": null,
      "id": "cc1cff95",
      "metadata": {
        "id": "cc1cff95",
        "outputId": "748e1d93-54e1-4928-d5f0-47fcdbc8efab"
      },
      "outputs": [
        {
          "name": "stdout",
          "output_type": "stream",
          "text": [
            "        Female  Male\n",
            "Pclass              \n",
            "1           91    45\n",
            "2           70    17\n",
            "3           72    47\n"
          ]
        }
      ],
      "source": [
        "url = \"https://raw.githubusercontent.com/datasciencedojo/datasets/master/titanic.csv\"\n",
        "titanic_df = pd.read_csv(url)\n",
        "\n",
        "surv_table = titanic_df.pivot_table(index='Pclass', columns='Sex', values='Survived', aggfunc='sum')\n",
        "surv_table.columns = ['Female', 'Male']\n",
        "surv_table.index.name = 'Pclass'\n",
        "print(surv_table)"
      ]
    }
  ],
  "metadata": {
    "kernelspec": {
      "display_name": "Python 3 (ipykernel)",
      "language": "python",
      "name": "python3"
    },
    "language_info": {
      "codemirror_mode": {
        "name": "ipython",
        "version": 3
      },
      "file_extension": ".py",
      "mimetype": "text/x-python",
      "name": "python",
      "nbconvert_exporter": "python",
      "pygments_lexer": "ipython3",
      "version": "3.9.13"
    },
    "toc": {
      "base_numbering": 1,
      "nav_menu": {},
      "number_sections": true,
      "sideBar": true,
      "skip_h1_title": false,
      "title_cell": "Table of Contents",
      "title_sidebar": "Contents",
      "toc_cell": false,
      "toc_position": {},
      "toc_section_display": true,
      "toc_window_display": false
    },
    "varInspector": {
      "cols": {
        "lenName": 16,
        "lenType": 16,
        "lenVar": 40
      },
      "kernels_config": {
        "python": {
          "delete_cmd_postfix": "",
          "delete_cmd_prefix": "del ",
          "library": "var_list.py",
          "varRefreshCmd": "print(var_dic_list())"
        },
        "r": {
          "delete_cmd_postfix": ") ",
          "delete_cmd_prefix": "rm(",
          "library": "var_list.r",
          "varRefreshCmd": "cat(var_dic_list()) "
        }
      },
      "types_to_exclude": [
        "module",
        "function",
        "builtin_function_or_method",
        "instance",
        "_Feature"
      ],
      "window_display": false
    },
    "colab": {
      "provenance": []
    }
  },
  "nbformat": 4,
  "nbformat_minor": 5
}