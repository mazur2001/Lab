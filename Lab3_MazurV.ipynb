{
  "cells": [
    {
      "cell_type": "code",
      "execution_count": null,
      "id": "67ee7f1d",
      "metadata": {
        "id": "67ee7f1d"
      },
      "outputs": [],
      "source": [
        "from tensorflow.keras.datasets import fashion_mnist\n",
        "from tensorflow.keras.models import Sequential\n",
        "from tensorflow.keras.layers import Dense, Dropout\n",
        "from tensorflow.keras import utils\n",
        "import numpy as np\n",
        "import matplotlib.pyplot as plt"
      ]
    },
    {
      "cell_type": "code",
      "execution_count": null,
      "id": "aba282b0",
      "metadata": {
        "id": "aba282b0"
      },
      "outputs": [],
      "source": [
        "(x_train, y_train), (x_test, y_test) = fashion_mnist.load_data()\n",
        "print(\"x_train original shape\", x_train.shape)\n",
        "print(\"y_train original shape\", y_train.shape)"
      ]
    },
    {
      "cell_type": "code",
      "execution_count": null,
      "id": "0794f3c4",
      "metadata": {
        "id": "0794f3c4"
      },
      "outputs": [],
      "source": [
        "classes = ['футболка', 'брюки', 'свитер', 'платье', 'пальто', 'туфли', 'рубашка', 'кроссовки', 'сумка', 'ботинки']\n",
        "\n",
        "plt.figure(figsize=(10,10))\n",
        "for i in range(100,150):\n",
        "    plt.subplot(5,10,i-100+1)\n",
        "    plt.xticks([])\n",
        "    plt.yticks([])\n",
        "    plt.grid(False)\n",
        "    plt.imshow(x_train[i], cmap=plt.cm.binary)\n",
        "    plt.xlabel(classes[y_train[i]])"
      ]
    },
    {
      "cell_type": "code",
      "execution_count": null,
      "id": "f9fbb8f5",
      "metadata": {
        "id": "f9fbb8f5"
      },
      "outputs": [],
      "source": [
        "#Створюємо послідовну модель\n",
        "model = Sequential()\n",
        "#Додаємо рівні мережі\n",
        "#Вхідний повнозв'язний шар, 800 нейронів, 784 входів в кожен нейрон\n",
        "model.add(Dense(800, input_dim=784, activation=\"relu\"))\n",
        "#Вихідний повнозв'язний шар, 10 нейронів\n",
        "model.add(Dense(10, activation=\"softmax\"))"
      ]
    },
    {
      "cell_type": "code",
      "execution_count": null,
      "id": "baa73312",
      "metadata": {
        "id": "baa73312"
      },
      "outputs": [],
      "source": [
        "#Компілюємо модель\n",
        "model.compile(loss=\"categorical_crossentropy\",\n",
        "             optimizer=\"SGD\",\n",
        "             metrics=[\"accuracy\"])"
      ]
    },
    {
      "cell_type": "code",
      "execution_count": null,
      "id": "7cd8ea77",
      "metadata": {
        "id": "7cd8ea77"
      },
      "outputs": [],
      "source": [
        "#Перетворення розмірності зображень\n",
        "x_train = x_train.reshape(60000, 784)\n",
        "x_test = x_test.reshape(10000, 784)\n",
        "#Нормалізація даних\n",
        "x_train = x_train / 255\n",
        "x_test = x_test / 255"
      ]
    },
    {
      "cell_type": "code",
      "execution_count": null,
      "id": "612b4258",
      "metadata": {
        "id": "612b4258"
      },
      "outputs": [],
      "source": [
        "#Перетворення мітки в категорії\n",
        "y_train = utils.to_categorical(y_train, 10)\n",
        "y_test = utils.to_categorical(y_test, 10)"
      ]
    },
    {
      "cell_type": "code",
      "execution_count": null,
      "id": "082ce394",
      "metadata": {
        "id": "082ce394"
      },
      "outputs": [],
      "source": [
        "#Зберігаємо модель\n",
        "model.save('fashion_mnist_dense.h5')"
      ]
    },
    {
      "cell_type": "code",
      "execution_count": null,
      "id": "73704663",
      "metadata": {
        "id": "73704663"
      },
      "outputs": [],
      "source": [
        "#Оцінка якості навчання\n",
        "scores = model.evaluate(x_test, y_test, verbose=1)\n",
        "print(\"Доля вірних відповідей на тестові дані, у відсотках:\", round(scores[1] * 100, 2))"
      ]
    },
    {
      "cell_type": "code",
      "execution_count": null,
      "id": "a8f5f82a",
      "metadata": {
        "id": "a8f5f82a"
      },
      "outputs": [],
      "source": [
        "#Розпізнаємо одяг\n",
        "n_rec = 496\n",
        "plt.imshow(x_test[n_rec].reshape(28, 28), cmap=plt.cm.binary)\n",
        "plt.show()"
      ]
    },
    {
      "cell_type": "code",
      "execution_count": null,
      "id": "b6874972",
      "metadata": {
        "id": "b6874972"
      },
      "outputs": [],
      "source": [
        "#Переглянемо архітектуру мережі\n",
        "model.summary()"
      ]
    },
    {
      "cell_type": "code",
      "execution_count": null,
      "id": "9cbdb552",
      "metadata": {
        "id": "9cbdb552"
      },
      "outputs": [],
      "source": [
        "history = model.fit(x_train, y_train,\n",
        "                   batch_size=450,\n",
        "                   epochs=50,\n",
        "                   validation_split=0.2,\n",
        "                   verbose=1)"
      ]
    },
    {
      "cell_type": "code",
      "execution_count": null,
      "id": "e36311ba",
      "metadata": {
        "id": "e36311ba"
      },
      "outputs": [],
      "source": [
        "#Змінимо рзомір, нормалізуємо\n",
        "x = x_test[n_rec]\n",
        "x = np.expand_dims(x, axis=0)"
      ]
    },
    {
      "cell_type": "code",
      "execution_count": null,
      "id": "c1c99af0",
      "metadata": {
        "id": "c1c99af0"
      },
      "outputs": [],
      "source": [
        "#Розпізнаємо\n",
        "prediction = model.predict(x)"
      ]
    },
    {
      "cell_type": "code",
      "execution_count": null,
      "id": "30eb9902",
      "metadata": {
        "id": "30eb9902"
      },
      "outputs": [],
      "source": [
        "prediction = np.argmax(prediction[0])\n",
        "print(\"Номер класу:\", prediction)\n",
        "print(\"Назва класу:\", classes[prediction])"
      ]
    }
  ],
  "metadata": {
    "kernelspec": {
      "display_name": "Python 3 (ipykernel)",
      "language": "python",
      "name": "python3"
    },
    "language_info": {
      "codemirror_mode": {
        "name": "ipython",
        "version": 3
      },
      "file_extension": ".py",
      "mimetype": "text/x-python",
      "name": "python",
      "nbconvert_exporter": "python",
      "pygments_lexer": "ipython3",
      "version": "3.9.13"
    },
    "toc": {
      "base_numbering": 1,
      "nav_menu": {},
      "number_sections": true,
      "sideBar": true,
      "skip_h1_title": false,
      "title_cell": "Table of Contents",
      "title_sidebar": "Contents",
      "toc_cell": false,
      "toc_position": {},
      "toc_section_display": true,
      "toc_window_display": false
    },
    "varInspector": {
      "cols": {
        "lenName": 16,
        "lenType": 16,
        "lenVar": 40
      },
      "kernels_config": {
        "python": {
          "delete_cmd_postfix": "",
          "delete_cmd_prefix": "del ",
          "library": "var_list.py",
          "varRefreshCmd": "print(var_dic_list())"
        },
        "r": {
          "delete_cmd_postfix": ") ",
          "delete_cmd_prefix": "rm(",
          "library": "var_list.r",
          "varRefreshCmd": "cat(var_dic_list()) "
        }
      },
      "types_to_exclude": [
        "module",
        "function",
        "builtin_function_or_method",
        "instance",
        "_Feature"
      ],
      "window_display": false
    },
    "colab": {
      "provenance": []
    }
  },
  "nbformat": 4,
  "nbformat_minor": 5
}